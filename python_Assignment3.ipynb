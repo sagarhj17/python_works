{
 "cells": [
  {
   "cell_type": "code",
   "execution_count": 1,
   "metadata": {},
   "outputs": [
    {
     "data": {
      "text/plain": [
       "26"
      ]
     },
     "execution_count": 1,
     "metadata": {},
     "output_type": "execute_result"
    }
   ],
   "source": [
    "def myreduce(func,x):\n",
    "    start=x[0];\n",
    "    for i in x[1:]:\n",
    "        start=func(start,i)\n",
    "    return start\n",
    "\n",
    "def grt(x,y):\n",
    "        return(x+y)\n",
    "\n",
    "myreduce(grt,[1,2,3,3,5,3,3,3,3])"
   ]
  },
  {
   "cell_type": "code",
   "execution_count": 2,
   "metadata": {},
   "outputs": [
    {
     "data": {
      "text/plain": [
       "[4, 5]"
      ]
     },
     "execution_count": 2,
     "metadata": {},
     "output_type": "execute_result"
    }
   ],
   "source": [
    "def myfilter(fnc,x):\n",
    "    l=[]\n",
    "    for i in x:\n",
    "        if fnc(i)!=0:\n",
    "            l.append(i)\n",
    "    return l\n",
    "myfilter(lambda x : True if x>3 else 0,[1,2,3,4,5])"
   ]
  },
  {
   "cell_type": "code",
   "execution_count": 3,
   "metadata": {},
   "outputs": [
    {
     "name": "stdout",
     "output_type": "stream",
     "text": [
      "['x', 'xx', 'xxx', 'xxxx', 'y', 'yy', 'yyy', 'yyyy', 'z', 'zz', 'zzz', 'zzzz']\n"
     ]
    }
   ],
   "source": [
    "def mul(x,len1):\n",
    "    global l;\n",
    "    l=[]\n",
    "    for i in x:\n",
    "        l.extend(i * j for j in range(1,len1+1))        \n",
    "mul(['x','y','z'],4)\n",
    "print(l)"
   ]
  },
  {
   "cell_type": "code",
   "execution_count": 4,
   "metadata": {},
   "outputs": [
    {
     "name": "stdout",
     "output_type": "stream",
     "text": [
      "['x', 'y', 'z', 'xx', 'yy', 'zz', 'xxx', 'yyy', 'zzz']\n"
     ]
    }
   ],
   "source": [
    "def mul1(x,len2):\n",
    "    global l1;\n",
    "    l1=[]\n",
    "    for i in range(1,len2+1):\n",
    "        l1.extend(j * i for j in x)\n",
    "mul1(['x','y','z'],3)\n",
    "print(l1)"
   ]
  },
  {
   "cell_type": "code",
   "execution_count": 9,
   "metadata": {},
   "outputs": [],
   "source": [
    "lista=[]\n",
    "listb=[]\n",
    "for i in range(2,5):\n",
    "    lista.extend([[i],[i+1],[i+2]])\n",
    "    listb.extend([[i,i+1,i+2,i+3]])"
   ]
  },
  {
   "cell_type": "code",
   "execution_count": 45,
   "metadata": {},
   "outputs": [
    {
     "data": {
      "text/plain": [
       "([[2], [3], [4], [3], [4], [5], [4], [5], [6]],\n",
       " [[2, 3, 4, 5], [3, 4, 5, 6], [4, 5, 6, 7]])"
      ]
     },
     "execution_count": 45,
     "metadata": {},
     "output_type": "execute_result"
    }
   ],
   "source": [
    "lista, listb"
   ]
  },
  {
   "cell_type": "code",
   "execution_count": 43,
   "metadata": {},
   "outputs": [
    {
     "data": {
      "text/plain": [
       "[(1, 1), (2, 1), (3, 1), (1, 2), (2, 2), (3, 2), (1, 3), (2, 3), (3, 3)]"
      ]
     },
     "execution_count": 43,
     "metadata": {},
     "output_type": "execute_result"
    }
   ],
   "source": [
    "l=[]\n",
    "def pat(x):\n",
    "    global l;\n",
    "    for i in range(1,x+1):\n",
    "        for j in range(1,x+1):\n",
    "            l.extend([(j,i)])\n",
    "pat(3)\n",
    "l"
   ]
  },
  {
   "cell_type": "code",
   "execution_count": null,
   "metadata": {},
   "outputs": [],
   "source": []
  },
  {
   "cell_type": "code",
   "execution_count": null,
   "metadata": {},
   "outputs": [],
   "source": []
  },
  {
   "cell_type": "code",
   "execution_count": null,
   "metadata": {},
   "outputs": [],
   "source": []
  },
  {
   "cell_type": "code",
   "execution_count": null,
   "metadata": {},
   "outputs": [],
   "source": []
  },
  {
   "cell_type": "code",
   "execution_count": null,
   "metadata": {},
   "outputs": [],
   "source": []
  }
 ],
 "metadata": {
  "kernelspec": {
   "display_name": "Python 3",
   "language": "python",
   "name": "python3"
  },
  "language_info": {
   "codemirror_mode": {
    "name": "ipython",
    "version": 3
   },
   "file_extension": ".py",
   "mimetype": "text/x-python",
   "name": "python",
   "nbconvert_exporter": "python",
   "pygments_lexer": "ipython3",
   "version": "3.7.3"
  }
 },
 "nbformat": 4,
 "nbformat_minor": 4
}
